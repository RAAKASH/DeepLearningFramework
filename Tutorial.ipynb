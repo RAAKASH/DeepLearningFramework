{
 "cells": [
  {
   "cell_type": "markdown",
   "metadata": {},
   "source": [
    "# Autogradient Tutorial\n",
    "\n",
    "This notebook documents the usage and application of the autogradient python file to perform various machine learning algorithms with ease.\n",
    "* <b>Step 1 </b>: Import all class files from autogradient python script.\n",
    "* <b>Step 2 </b>: Use the '<b>Tensor</b>' class file to intialize all variables.\n",
    "* <b>Step 3 </b>: Use the math functions available in the '<b>op</b>' class file to perform necessary computations and obtain the final cost function.\n",
    "* <b>Step 4 </b>: Use the '<b>graph</b>' class file to specify the function to be differentiated and wrt to what all variables as inputs, store the graph object.\n",
    "* <b>Step 5 </b>: Obtain gradients by using '<b>get_grad()</b>' function belonging to graph class file using the previously created graph object.\n",
    "* <b>Step 6 </b>: To recompute the cost function after updating or changing values of the variables use the function '<b>recompute_graph()</b>' of the graph class from the previously created graph object."
   ]
  },
  {
   "cell_type": "code",
   "execution_count": 1,
   "metadata": {},
   "outputs": [],
   "source": [
    "import numpy as np\n",
    "from autogradient import *"
   ]
  },
  {
   "cell_type": "markdown",
   "metadata": {},
   "source": [
    "## Creating dummy dataset"
   ]
  },
  {
   "cell_type": "code",
   "execution_count": 2,
   "metadata": {},
   "outputs": [
    {
     "data": {
      "text/plain": [
       "<matplotlib.figure.Figure at 0x153e4dd9390>"
      ]
     },
     "metadata": {},
     "output_type": "display_data"
    }
   ],
   "source": [
    "# Creating dummy data\n",
    "import numpy as np\n",
    "import matplotlib.pyplot as plt\n",
    "\n",
    "n = 20 # Size of dataset\n",
    "o = 2 # No of classes \n",
    "m = 2 # Feature vector size\n",
    "np.random.seed(6)\n",
    "X_val = np.random.rand(m,n)\n",
    "y = np.round(np.random.rand(n)*(o-1)).astype(int) \n",
    "Y_val = np.zeros(shape = (o,X_val.shape[1]))\n",
    "Y_val[y,range(n)] = 1\n",
    "plt.scatter(X_val[0,:],X_val[1,:],c=y[0:],cmap=plt.cm.Spectral,edgecolors='k')\n",
    "plt.show()\n",
    "\n",
    "\n",
    "X = Tensor(X_val)\n",
    "Y = Tensor(Y_val)\n"
   ]
  },
  {
   "cell_type": "markdown",
   "metadata": {},
   "source": [
    "## 4 - Layer neural network Example"
   ]
  },
  {
   "cell_type": "code",
   "execution_count": 3,
   "metadata": {},
   "outputs": [
    {
     "name": "stdout",
     "output_type": "stream",
     "text": [
      "Accuracy : 90.0 %\n"
     ]
    },
    {
     "data": {
      "image/png": "[encoded data removed]",
      "text/plain": [
       "<matplotlib.figure.Figure at 0x153e5bbc5f8>"
      ]
     },
     "metadata": {},
     "output_type": "display_data"
    }
   ],
   "source": [
    "# 2 layer neural-net Example # \n",
    "np.random.seed(1)\n",
    "h1 = 30 # Number of neurons in  hidden layers - 1\n",
    "h2 = 30 # Number of neurons in  hidden layers - 2\n",
    "\n",
    "# Intializing variables\n",
    "W0 = Tensor(np.random.rand(h1,m)-0.5)\n",
    "b0 = Tensor(np.random.rand(h1,1)-0.5)\n",
    "W1 = Tensor(np.random.rand(h2,h1)-0.5)\n",
    "b1 = Tensor(np.random.rand(h2,1)-0.5)\n",
    "W2 = Tensor(np.random.rand(o,h2)-0.5)\n",
    "b2 = Tensor(np.random.rand(o,1)-0.5)\n",
    "\n",
    "# Constructing cost function\n",
    "h1 = W0.dot(X) + b0\n",
    "a1 = h1.RelU()\n",
    "h2 = W1.dot(a1)+ b1\n",
    "a2 = h2.RelU()\n",
    "h3 = W2.dot(a2)+b2\n",
    "a3 = h3.softmax_crossentropy_loss(Y,axis=0) # - Final cost function\n",
    "\n",
    "# Pruning graphs to obtain gradients \n",
    "gr = graph(a3,[W0,W1,b0,b1])\n",
    "\n",
    "alpha = 0.4\n",
    "loss = []\n",
    "# Training over 2500 epochs\n",
    "for i in range(1500):\n",
    "    w0_grad,w1_grad,b0_grad,b1_grad = gr.get_grad() #getting gradients\n",
    "    W0.value-=w0_grad/n*alpha\n",
    "    W1.value-=w1_grad/n*alpha\n",
    "    b0_grad -=b0_grad/n*alpha\n",
    "    b1_grad -=b1_grad/n*alpha\n",
    "    #Recomputing the cost function\n",
    "    gr.recompute_graph()\n",
    "    # For plotting purposes.\n",
    "    loss.append(a3.value[0])\n",
    "\n",
    "    \n",
    "print('Accuracy :' , 100 -np.sum(np.abs(np.round(h3.cache) - Y.value))/n*100,'%')#\n",
    "#plotting loss as a function of epochs\n",
    "plt.plot(loss)\n",
    "plt.xlabel('No of epochs')\n",
    "plt.ylabel('loss')\n",
    "plt.show()\n"
   ]
  },
  {
   "cell_type": "markdown",
   "metadata": {},
   "source": [
    "## Deep neural network Example"
   ]
  },
  {
   "cell_type": "code",
   "execution_count": 21,
   "metadata": {},
   "outputs": [
    {
     "name": "stdout",
     "output_type": "stream",
     "text": [
      "Accuracy : 90.0 %\n"
     ]
    },
    {
     "data": {
      "image/png": "[encoded data removed]",
      "text/plain": [
       "<matplotlib.figure.Figure at 0x153e7045320>"
      ]
     },
     "metadata": {},
     "output_type": "display_data"
    }
   ],
   "source": [
    "# L - layer neural-net Example # \n",
    "np.random.seed(5)\n",
    "\n",
    "hid_lay = [m,20,20,20,o]# 3 hidden layers\n",
    "\n",
    "\n",
    "# Intializing variables\n",
    "X = Tensor(X_val)\n",
    "Y = Tensor(Y_val)\n",
    "W = []\n",
    "b =[]\n",
    "c = len(hid_lay)-1\n",
    "\n",
    "for i in range(1,c+1):\n",
    "    W.append(Tensor(np.random.rand(hid_lay[i],hid_lay[i-1])-0.5))\n",
    "    b.append(Tensor(np.random.rand(hid_lay[i],1)-0.5))\n",
    "\n",
    "# Constructing cost function\n",
    "act=[X]\n",
    "hid=[]\n",
    "\n",
    "for i in range(c):\n",
    "    hid.append(W[i].dot(act[i]) )\n",
    "    if i==2:\n",
    "        act.append(hid[i].RelU())\n",
    "    else:\n",
    "        act.append(hid[i].RelU())\n",
    "\n",
    "cost = hid[c-1].softmax_crossentropy_loss(Y,axis=0) # - Final cost function\n",
    "\n",
    "\n",
    "# concatinating weights\n",
    "weights = W+b\n",
    "\n",
    "# pruning comp graph\n",
    "gr = graph(cost,weights)\n",
    "\n",
    "\n",
    "# Training over 6000 epochs\n",
    "alpha = 0.1\n",
    "loss = []\n",
    "for i in range(6000):\n",
    "    weight_grad = gr.get_grad() #getting gradients\n",
    "    # Updating weights\n",
    "    for j in range(c):\n",
    "        W[j].value-=weight_grad[j]/n*alpha\n",
    "        b[j].value-=weight_grad[c+j]/n*alpha\n",
    "    alpha=0.15/(i//3000+1)\n",
    "    #for plotting  purposes.\n",
    "    loss.append(cost.value[0])   \n",
    "    \n",
    "    #Recomputing the cost function\n",
    "    gr.recompute_graph()\n",
    "\n",
    "print('Accuracy :' , 100 -np.sum(np.abs(np.round(hid[c-1].cache) - Y.value))/n*100,'%')\n",
    "\n",
    "#plotting loss as a function of epochs\n",
    "plt.plot(loss)\n",
    "plt.xlabel('No of epochs')\n",
    "plt.ylabel('loss')\n",
    "plt.show()\n"
   ]
  },
  {
   "cell_type": "markdown",
   "metadata": {},
   "source": [
    "## Linear regression example"
   ]
  },
  {
   "cell_type": "code",
   "execution_count": 5,
   "metadata": {},
   "outputs": [
    {
     "name": "stdout",
     "output_type": "stream",
     "text": [
      "Error 1.1507961163874203 %\n"
     ]
    },
    {
     "data": {
      "image/png": "[encoded data removed]",
      "text/plain": [
       "<matplotlib.figure.Figure at 0x153e5bb9e10>"
      ]
     },
     "metadata": {},
     "output_type": "display_data"
    }
   ],
   "source": [
    "# Linear regression Example #\n",
    "\n",
    "# Creating dummy dataset\n",
    "np.random.seed(1)\n",
    "x = Tensor(np.array(range(10)))\n",
    "y = Tensor(x.value*3+np.random.rand(10)*1)\n",
    "\n",
    "#Initializing variables\n",
    "w = Tensor(0)\n",
    "\n",
    "# Constructing cost function\n",
    "cost = op.mse(x*w,y)\n",
    "\n",
    "# constructing graph object\n",
    "gr = graph(cost,[w])\n",
    "\n",
    "# Training\n",
    "loss = []\n",
    "alpha = 0.2\n",
    "for i in range(20):\n",
    "    # getting gradients\n",
    "    w_grad = gr.get_grad()\n",
    "    w.value-=w_grad[0]*alpha\n",
    "    # recomputing cost function\n",
    "    gr.recompute_graph()\n",
    "    loss.append(cost.value[0])\n",
    "\n",
    "print('Error',(w.value-3)/3*100,'%')\n",
    "\n",
    "#plotting loss as a function of epochs\n",
    "plt.plot(loss)\n",
    "plt.xlabel('No of epochs')\n",
    "plt.ylabel('loss')\n",
    "plt.show()"
   ]
  }
 ],
 "metadata": {
  "kernelspec": {
   "display_name": "Python 3",
   "language": "python",
   "name": "python3"
  },
  "language_info": {
   "codemirror_mode": {
    "name": "ipython",
    "version": 3
   },
   "file_extension": ".py",
   "mimetype": "text/x-python",
   "name": "python",
   "nbconvert_exporter": "python",
   "pygments_lexer": "ipython3",
   "version": "3.6.4"
  }
 },
 "nbformat": 4,
 "nbformat_minor": 2
}
